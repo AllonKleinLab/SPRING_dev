{
 "cells": [
  {
   "cell_type": "markdown",
   "metadata": {},
   "source": [
    "## Setup"
   ]
  },
  {
   "cell_type": "code",
   "execution_count": 1,
   "metadata": {},
   "outputs": [],
   "source": [
    "# cellranger import\n",
    "#import modules, define some functions for loading, saving and processing a gene-barcode matrix\n",
    "%matplotlib inline\n",
    "import pkg_resources\n",
    "import collections\n",
    "import numpy as np\n",
    "import pandas as pd\n",
    "import scipy.sparse as sp_sparse\n",
    "import tables\n",
    "import matplotlib\n",
    "import matplotlib.pyplot as plt\n",
    "import h5py\n",
    "\n",
    "np.random.seed(0)\n",
    "\n",
    "GeneBCMatrix = collections.namedtuple('GeneBCMatrix', ['gene_ids', 'gene_names', 'barcodes', 'matrix'])\n",
    "\n",
    "def get_matrix_from_h5(filename, genome):\n",
    "    with tables.open_file(filename, 'r') as f:\n",
    "        try:\n",
    "            dsets = {}\n",
    "            for node in f.walk_nodes('/' + genome, 'Array'):\n",
    "                dsets[node.name] = node.read()\n",
    "            matrix = sp_sparse.csc_matrix((dsets['data'], dsets['indices'], dsets['indptr']), shape=dsets['shape'])\n",
    "            if 'id' in dsets.keys():\n",
    "                return GeneBCMatrix(dsets['id'], dsets['name'], dsets['barcodes'], matrix)\n",
    "            else:\n",
    "                return GeneBCMatrix(dsets['genes'], dsets['gene_names'], dsets['barcodes'], matrix)\n",
    "        except tables.NoSuchNodeError:\n",
    "            raise Exception(\"Genome %s does not exist in this file.\" % genome)\n",
    "        except KeyError:\n",
    "            raise Exception(\"File is missing one or more required datasets.\")\n",
    "\n",
    "def save_matrix_to_h5(gbm, filename, genome):\n",
    "    flt = tables.Filters(complevel=1)\n",
    "    with tables.open_file(filename, 'w', filters=flt) as f:\n",
    "        try:\n",
    "            group = f.create_group(f.root, genome)\n",
    "            f.create_carray(group, 'genes', obj=gbm.gene_ids)\n",
    "            f.create_carray(group, 'gene_names', obj=gbm.gene_names)\n",
    "            f.create_carray(group, 'barcodes', obj=gbm.barcodes)\n",
    "            f.create_carray(group, 'data', obj=gbm.matrix.data)\n",
    "            f.create_carray(group, 'indices', obj=gbm.matrix.indices)\n",
    "            f.create_carray(group, 'indptr', obj=gbm.matrix.indptr)\n",
    "            f.create_carray(group, 'shape', obj=gbm.matrix.shape)\n",
    "        except:\n",
    "            raise Exception(\"Failed to write H5 file.\")\n",
    "        \n",
    "def subsample_matrix(gbm, barcode_indices):\n",
    "    return GeneBCMatrix(gbm.gene_ids, gbm.gene_names, gbm.barcodes[barcode_indices], gbm.matrix[:, barcode_indices])\n",
    "\n",
    "def get_expression(gbm, gene_name):\n",
    "    gene_indices = np.where(gbm.gene_names == gene_name)[0]\n",
    "    if len(gene_indices) == 0:\n",
    "        raise Exception(\"%s was not found in list of gene names.\" % gene_name)\n",
    "    return gbm.matrix[gene_indices[0], :].toarray().squeeze()\n",
    "\n",
    "def save_count_matrix_to_h5(E, gene_list, filename):\n",
    "    with h5py.File(filename, 'w') as hf:\n",
    "        hf.create_dataset(\"indptr\" ,  data= E.indptr)\n",
    "        hf.create_dataset(\"indices\",  data= E.indices)\n",
    "        hf.create_dataset(\"data\"   ,  data= E.data)\n",
    "        hf.create_dataset(\"shape\"  ,  data= E.shape)\n",
    "        hf.create_dataset(\"genes\"  ,  data= gene_list)"
   ]
  },
  {
   "cell_type": "code",
   "execution_count": 2,
   "metadata": {},
   "outputs": [
    {
     "name": "stdout",
     "output_type": "stream",
     "text": [
      "Populating the interactive namespace from numpy and matplotlib\n"
     ]
    }
   ],
   "source": [
    "%pylab inline\n",
    "from helper_functions import *\n",
    "#from doublet_detector import *\n",
    "from collections import defaultdict"
   ]
  },
  {
   "cell_type": "code",
   "execution_count": 3,
   "metadata": {},
   "outputs": [],
   "source": [
    "#plt.rcParams['font.family'] = 'sans-serif'\n",
    "plt.rcParams['font.family'] = 'sans-serif'\n",
    "plt.rcParams['font.sans-serif'] = 'DejaVu Sans'\n",
    "plt.rc('font', size=14)\n",
    "plt.rcParams['pdf.fonttype'] = 42"
   ]
  },
  {
   "cell_type": "code",
   "execution_count": 4,
   "metadata": {},
   "outputs": [
    {
     "name": "stdout",
     "output_type": "stream",
     "text": [
      "--2021-02-10 18:50:02--  http://cf.10xgenomics.com/samples/cell-exp/3.0.0/pbmc_10k_protein_v3/pbmc_10k_protein_v3_raw_feature_bc_matrix.h5\n",
      "Resolving cp-tinyproxy.default.svc.cluster.local (cp-tinyproxy.default.svc.cluster.local)... 10.105.184.90\n",
      "Connecting to cp-tinyproxy.default.svc.cluster.local (cp-tinyproxy.default.svc.cluster.local)|10.105.184.90|:3128... connected.\n",
      "Proxy request sent, awaiting response... 301 Moved Permanently\n",
      "Location: https://cf.10xgenomics.com/samples/cell-exp/3.0.0/pbmc_10k_protein_v3/pbmc_10k_protein_v3_raw_feature_bc_matrix.h5 [following]\n",
      "--2021-02-10 18:50:04--  https://cf.10xgenomics.com/samples/cell-exp/3.0.0/pbmc_10k_protein_v3/pbmc_10k_protein_v3_raw_feature_bc_matrix.h5\n",
      "Connecting to cp-tinyproxy.default.svc.cluster.local (cp-tinyproxy.default.svc.cluster.local)|10.105.184.90|:3128... connected.\n",
      "Proxy request sent, awaiting response... 200 OK\n",
      "Length: 154515158 (147M) [binary/octet-stream]\n",
      "Saving to: 'pbmc_10k_protein_v3_raw_feature_bc_matrix.h5.2'\n",
      "\n",
      "pbmc_10k_protein_v3 100%[===================>] 147.36M  59.7MB/s    in 2.5s    \n",
      "\n",
      "2021-02-10 18:50:08 (59.7 MB/s) - 'pbmc_10k_protein_v3_raw_feature_bc_matrix.h5.2' saved [154515158/154515158]\n",
      "\n"
     ]
    }
   ],
   "source": [
    "# download raw data from 10X Genomics\n",
    "!wget http://cf.10xgenomics.com/samples/cell-exp/3.0.0/pbmc_10k_protein_v3/pbmc_10k_protein_v3_raw_feature_bc_matrix.h5"
   ]
  },
  {
   "cell_type": "markdown",
   "metadata": {},
   "source": [
    "## Load data"
   ]
  },
  {
   "cell_type": "code",
   "execution_count": 5,
   "metadata": {},
   "outputs": [
    {
     "name": "stdout",
     "output_type": "stream",
     "text": [
      "pbmc_10k_protein_v3_raw_feature_bc_matrix.h5\n",
      "(6794880, 33555)\n",
      "6794880\n"
     ]
    }
   ],
   "source": [
    "# D stores all the data; one entry per library\n",
    "sample_list = [\"Sample1\"]\n",
    "D = {}\n",
    "\n",
    "for j, s in enumerate(sample_list):\n",
    "    filename = 'pbmc_10k_protein_v3_raw_feature_bc_matrix.h5'\n",
    "    raw_matrix_h5 = filename\n",
    "    print raw_matrix_h5\n",
    "    genome = \"matrix\"\n",
    "    D[s] = {}\n",
    "    D[s]['meta'] = {}\n",
    "    gbm = get_matrix_from_h5(raw_matrix_h5, genome)\n",
    "    D[s]['E'] = transpose(gbm.matrix)\n",
    "    D[s]['meta']['gene_list']=gbm.gene_names\n",
    "    D[s]['meta']['gene_id']=gbm.gene_ids\n",
    "    print D[s]['E'].shape\n",
    "    D[s]['cell_index']=gbm.barcodes\n",
    "    print (len(D[s]['cell_index']))"
   ]
  },
  {
   "cell_type": "code",
   "execution_count": 6,
   "metadata": {},
   "outputs": [],
   "source": [
    "gene_list = D[s]['meta']['gene_list']\n",
    "gene_id = D[s]['meta']['gene_id']"
   ]
  },
  {
   "cell_type": "code",
   "execution_count": 7,
   "metadata": {},
   "outputs": [
    {
     "name": "stdout",
     "output_type": "stream",
     "text": [
      "['CD3_TotalSeqB', 'CD4_TotalSeqB', 'CD8a_TotalSeqB', 'CD14_TotalSeqB', 'CD15_TotalSeqB', 'CD16_TotalSeqB', 'CD56_TotalSeqB', 'CD19_TotalSeqB', 'CD25_TotalSeqB', 'CD45RA_TotalSeqB', 'CD45RO_TotalSeqB', 'PD-1_TotalSeqB', 'TIGIT_TotalSeqB', 'CD127_TotalSeqB', 'IgG2a_control_TotalSeqB', 'IgG1_control_TotalSeqB', 'IgG2b_control_TotalSeqB']\n"
     ]
    }
   ],
   "source": [
    "# get protein names and gene names\n",
    "\n",
    "adt_ix = [i for i,g in enumerate(gene_list) if g.endswith('TotalSeqB')]\n",
    "gn_ix = [i for i,g in enumerate(gene_list) if not g.endswith('TotalSeqB')]\n",
    "\n",
    "print [gene_list[i] for i in adt_ix]\n",
    "proteins = gene_list[adt_ix]\n",
    "gns = gene_list[gn_ix]"
   ]
  },
  {
   "cell_type": "markdown",
   "metadata": {},
   "source": [
    "## Filter cells by total counts and number of genes detected\n"
   ]
  },
  {
   "cell_type": "code",
   "execution_count": 8,
   "metadata": {},
   "outputs": [
    {
     "data": {
      "image/png": "[encoded data removed]",
      "text/plain": [
       "<Figure size 432x288 with 1 Axes>"
      ]
     },
     "metadata": {
      "needs_background": "light"
     },
     "output_type": "display_data"
    }
   ],
   "source": [
    "# plot total counts histograms - don't actually filter out any barcodes yet\n",
    "\n",
    "\n",
    "# adjust total counts thresholds\n",
    "\n",
    "for j,s in enumerate(sample_list):\n",
    "    D[s]['total_counts'] = np.sum(D[s]['E'][:,gn_ix], axis=1).A[:,0]\n",
    "    D[s]['genes_detected'] = np.sum(D[s]['E'][:,gn_ix]>0, axis=1).A[:,0]\n",
    "    D[s]['meta']['min_tot']= np.mean(D[s]['total_counts'])+np.std(D[s]['total_counts'])\n",
    "    D[s]['meta']['min_genes_detected']=200;\n",
    "\n",
    "    fig3 = plt.figure()\n",
    "    ax3 = fig3.add_subplot(111)\n",
    "    ax3.set_xlabel('Transcripts per barcode (log10)')\n",
    "    ax3.set_ylabel('genes detected')\n",
    "\n",
    "    ax3.scatter(log(1 + D[s]['total_counts']),D[s]['genes_detected']);\n",
    "    ax3.plot(ax3.get_xlim(),[D[s]['meta']['min_genes_detected'],D[s]['meta']['min_genes_detected']]);\n",
    "    title(s)"
   ]
  },
  {
   "cell_type": "code",
   "execution_count": 9,
   "metadata": {},
   "outputs": [
    {
     "name": "stdout",
     "output_type": "stream",
     "text": [
      "6794880\n",
      "Sample1 7965 / 6794880 3628.0 4664.67507847\n"
     ]
    }
   ],
   "source": [
    "D_orig=D\n",
    "for j,s in enumerate(sample_list):\n",
    "    ix = (D[s]['genes_detected'] > 200) & (D[s]['total_counts'] > 500)\n",
    "    print D_orig[s]['E'].shape[0]\n",
    "    if np.sum(ix) > 0:\n",
    "        print s, np.sum(ix), '/', D[s]['E'].shape[0], np.median(D[s]['total_counts'][ix]), np.mean(D[s]['total_counts'][ix])\n"
   ]
  },
  {
   "cell_type": "code",
   "execution_count": 10,
   "metadata": {},
   "outputs": [
    {
     "name": "stdout",
     "output_type": "stream",
     "text": [
      "---  Sample1 ---\n",
      "Pre-filter: 6794880 barcodes\n",
      "6794372\n",
      "(6794880, 33555)\n",
      "Post-filter: 7965 barcodes\n",
      "(7965, 33555)\n"
     ]
    }
   ],
   "source": [
    "# Actually filter out low-count barcodes\n",
    "for j,s in enumerate(sample_list):\n",
    "    print '---  %s ---' %s\n",
    "    print 'Pre-filter: %i barcodes' %D[s]['E'].shape[0]\n",
    "    tmpfilt = np.nonzero((D[s]['genes_detected'] > 200) & (D[s]['total_counts'] > 500))[0]\n",
    "    print max(tmpfilt)\n",
    "    print D[s]['E'].shape\n",
    "    D[s] = filter_dict(D[s], tmpfilt)\n",
    "    print 'Post-filter: %i barcodes' %D[s]['E'].shape[0]\n",
    "    print D[s]['E'].shape\n",
    "\n"
   ]
  },
  {
   "cell_type": "markdown",
   "metadata": {},
   "source": [
    "## Filter cells by mito fraction"
   ]
  },
  {
   "cell_type": "code",
   "execution_count": 11,
   "metadata": {},
   "outputs": [
    {
     "name": "stdout",
     "output_type": "stream",
     "text": [
      "['MT-ND1', 'MT-ND2', 'MT-CO1', 'MT-CO2', 'MT-ATP8', 'MT-ATP6', 'MT-CO3', 'MT-ND3', 'MT-ND4L', 'MT-ND4', 'MT-ND5', 'MT-ND6', 'MT-CYB']\n"
     ]
    }
   ],
   "source": [
    "# get mitochondrial genes\n",
    "mt_ix = [i for i,g in enumerate(gene_list) if g.startswith('MT-')]\n",
    "print [gene_list[i] for i in mt_ix]"
   ]
  },
  {
   "cell_type": "code",
   "execution_count": 12,
   "metadata": {
    "scrolled": true
   },
   "outputs": [
    {
     "name": "stdout",
     "output_type": "stream",
     "text": [
      "7965 7902\n"
     ]
    },
    {
     "data": {
      "image/png": "[encoded data removed]",
      "text/plain": [
       "<Figure size 576x432 with 1 Axes>"
      ]
     },
     "metadata": {
      "needs_background": "light"
     },
     "output_type": "display_data"
    }
   ],
   "source": [
    "# plot mito-gene frac histograms - don't actually filter out any cells yet\n",
    "# set mito-gene frac threshold\n",
    "for j,s in enumerate(sample_list):\n",
    "    D[s]['meta']['max_mt'] = 0.2\n",
    "\n",
    "for j,s in enumerate(sample_list):\n",
    "    fig = plt.figure(figsize=(8, 6))\n",
    "    ax = fig.add_subplot(111, xscale='linear', yscale='linear',\n",
    "        xlabel='MT frac.', ylabel='no. cells')\n",
    "\n",
    "    D[s]['mito_frac'] = np.sum(D[s]['E'][:,mt_ix], axis=1).A[:,0] / np.sum(D[s]['E'][:,gn_ix], axis=1,dtype=float).A[:,0]\n",
    "\n",
    "    ax.hist(D[s]['mito_frac'], cumulative=False, \n",
    "            bins=np.linspace(0, 1, 30))\n",
    "\n",
    "    ax.plot([D[s]['meta']['max_mt'],D[s]['meta']['max_mt']],ax.get_ylim());\n",
    "    title(s)\n",
    "\n",
    "    print D[s]['E'].shape[0], np.sum(D[s]['mito_frac'] <= D[s]['meta']['max_mt'])\n"
   ]
  },
  {
   "cell_type": "code",
   "execution_count": 13,
   "metadata": {},
   "outputs": [
    {
     "name": "stdout",
     "output_type": "stream",
     "text": [
      "---  Sample1 ---\n",
      "Pre-filter: 7965 barcodes\n",
      "Post-filter: 7902 barcodes\n"
     ]
    }
   ],
   "source": [
    "# Actually filter out mito-high cells \n",
    "D_filt=D\n",
    "for s in sample_list:\n",
    "    print '---  %s ---' %s\n",
    "    print 'Pre-filter: %i barcodes' %D[s]['E'].shape[0]\n",
    "    tmpfilt = np.nonzero(D[s]['mito_frac'] <= D[s]['meta']['max_mt'])[0]\n",
    "    D[s] = filter_dict(D[s], tmpfilt)\n",
    "    print 'Post-filter: %i barcodes' %D[s]['E'].shape[0]\n",
    "    \n",
    "#del tmpfilt"
   ]
  },
  {
   "cell_type": "markdown",
   "metadata": {},
   "source": [
    "## Merge data, normalize"
   ]
  },
  {
   "cell_type": "code",
   "execution_count": 14,
   "metadata": {},
   "outputs": [
    {
     "name": "stdout",
     "output_type": "stream",
     "text": [
      "Sample1\n"
     ]
    }
   ],
   "source": [
    "# create master dataset (all SPRING subsets will refer back to this)\n",
    "\n",
    "samp_lookup = {}\n",
    "samp_id_flat = np.array([],dtype=str)\n",
    "\n",
    "for s in D.keys():\n",
    "    samp_id_flat = np.append(samp_id_flat, [s] * D[s]['E'].shape[0])\n",
    "\n",
    "        \n",
    "E = scipy.sparse.lil_matrix((len(samp_id_flat), len(gene_list)), dtype=int)\n",
    "total_counts = np.zeros(len(samp_id_flat), dtype=int)\n",
    "mito_frac = np.zeros(len(samp_id_flat), dtype=float)\n",
    "genes_detected = np.zeros(len(samp_id_flat), dtype=int)\n",
    "\n",
    "for s in D.keys():\n",
    "    print s\n",
    "    E[samp_id_flat == s, :] = D[s]['E']\n",
    "    total_counts[samp_id_flat == s] = D[s]['total_counts']\n",
    "    mito_frac[samp_id_flat == s] = D[s]['mito_frac']\n",
    "    genes_detected[samp_id_flat == s] = D[s]['genes_detected']\n",
    "\n",
    "E = E.tocsc()"
   ]
  },
  {
   "cell_type": "code",
   "execution_count": 15,
   "metadata": {},
   "outputs": [],
   "source": [
    "E_full=E"
   ]
  },
  {
   "cell_type": "code",
   "execution_count": 16,
   "metadata": {},
   "outputs": [
    {
     "name": "stdout",
     "output_type": "stream",
     "text": [
      "['MT-ND1', 'MT-ND2', 'MT-CO1', 'MT-CO2', 'MT-ATP8', 'MT-ATP6', 'MT-CO3', 'MT-ND3', 'MT-ND4L', 'MT-ND4', 'MT-ND5', 'MT-ND6', 'MT-CYB']\n",
      "20922 / 33555\n"
     ]
    }
   ],
   "source": [
    "# remove genes that are not expressed by any cells\n",
    "# optionally remove mito and rps genes\n",
    "gene_list = D[sample_list[0]]['meta']['gene_list']\n",
    "gene_id = D[sample_list[0]]['meta']['gene_id']\n",
    "remove_crapgenes = 1\n",
    "\n",
    "if remove_crapgenes:\n",
    "    import re\n",
    "    mt_ix = [i for i,g in enumerate(gene_list) if g.startswith('MT-')]\n",
    "    print [gene_list[i] for i in mt_ix]\n",
    "    #rp_ix = [i for i,g in enumerate(gene_list) if g.startswith('RPS') or g.startswith('RPL')]\n",
    "    #rp_ix = [i for i,g in enumerate(gene_list) if g.startswith('RPS','RPL')]\n",
    "    rp_ix = [i for i,g in enumerate(gene_list) if g.startswith('RP1') \n",
    "             or g.startswith('RP2') or g.startswith('RP3')\n",
    "             or g.startswith('RP4') or g.startswith('RP5')\n",
    "             or g.startswith('RP6') or g.startswith('RP7')\n",
    "             or g.startswith('RP8') or g.startswith('RP9')\n",
    "             or g.startswith('RPL') or g.startswith('RPS')\n",
    "            ]\n",
    "    #or g.startswith('RP4','RP5','RP6') or g.startswith('RP7','RP8','RP9')]\n",
    "    keep_genes = (E.sum(0) > 0).A.squeeze() #* rp_ix * mt_ix\n",
    "    keep_genes[rp_ix] = 0\n",
    "    keep_genes[mt_ix] = 0\n",
    "    print sum(keep_genes), '/', len(keep_genes)\n",
    "else:\n",
    "    keep_genes = (E.sum(0) > 0).A.squeeze()\n",
    "    print sum(keep_genes), '/', len(keep_genes)\n"
   ]
  },
  {
   "cell_type": "code",
   "execution_count": 17,
   "metadata": {},
   "outputs": [
    {
     "name": "stdout",
     "output_type": "stream",
     "text": [
      "(7902, 20922)\n"
     ]
    }
   ],
   "source": [
    "# filter out genes\n",
    "E = E[:,keep_genes]\n",
    "print shape(E)\n",
    "gene_list = gene_list[keep_genes]\n",
    "gene_id = gene_id[keep_genes]\n",
    "merged_list=[x+\"_\"+gene_id[i] for i,x in enumerate(gene_list)]"
   ]
  },
  {
   "cell_type": "code",
   "execution_count": 18,
   "metadata": {},
   "outputs": [
    {
     "name": "stdout",
     "output_type": "stream",
     "text": [
      "['CD3_TotalSeqB_CD3', 'CD4_TotalSeqB_CD4', 'CD8a_TotalSeqB_CD8a', 'CD14_TotalSeqB_CD14', 'CD15_TotalSeqB_CD15', 'CD16_TotalSeqB_CD16', 'CD56_TotalSeqB_CD56', 'CD19_TotalSeqB_CD19', 'CD25_TotalSeqB_CD25', 'CD45RA_TotalSeqB_CD45RA', 'CD45RO_TotalSeqB_CD45RO', 'PD-1_TotalSeqB_PD-1', 'TIGIT_TotalSeqB_TIGIT', 'CD127_TotalSeqB_CD127', 'IgG2a_control_TotalSeqB_IgG2a', 'IgG1_control_TotalSeqB_IgG1', 'IgG2b_control_TotalSeqB_IgG2b']\n"
     ]
    }
   ],
   "source": [
    "# get protein names and gene names\n",
    "adt_ix = [i for i,g in enumerate(gene_list) if g.endswith('TotalSeqB')]\n",
    "gn_ix = [i for i,g in enumerate(gene_list) if not g.endswith('TotalSeqB')]\n",
    "\n",
    "print [merged_list[i] for i in adt_ix]\n",
    "proteins = gene_list[adt_ix]\n",
    "gns = gene_list[gn_ix]\n",
    "merged_proteins = [merged_list[i] for i in adt_ix]\n",
    "\n",
    "# normalize by total counts seperately\n",
    "E[:,gn_ix] = tot_counts_norm_sparse(E[:,gn_ix])[0]"
   ]
  },
  {
   "cell_type": "markdown",
   "metadata": {},
   "source": [
    "## Save base directory files"
   ]
  },
  {
   "cell_type": "code",
   "execution_count": 25,
   "metadata": {},
   "outputs": [],
   "source": [
    "main_spring_dir=os.getcwd()"
   ]
  },
  {
   "cell_type": "code",
   "execution_count": 26,
   "metadata": {},
   "outputs": [],
   "source": [
    "# if BCR data\n",
    "BCR = 1\n",
    "\n",
    "if BCR:\n",
    "    barcode_dir = main_spring_dir + \"/barcodes/\"\n",
    "    if not os.path.exists(barcode_dir):\n",
    "        os.makedirs(barcode_dir)\n",
    "        for s in sample_list:\n",
    "            print '---  %s ---' %s\n",
    "            np.savetxt(barcode_dir + s, D[s]['cell_index'], fmt='%s')\n"
   ]
  },
  {
   "cell_type": "code",
   "execution_count": 27,
   "metadata": {},
   "outputs": [],
   "source": [
    "MT = 1\n",
    "\n",
    "if MT:\n",
    "    MT_dir = main_spring_dir + \"/mito/\"\n",
    "    if not os.path.exists(MT_dir):\n",
    "        os.makedirs(MT_dir)\n",
    "        for s in sample_list:\n",
    "            print '---  %s ---' %s\n",
    "            np.savetxt(MT_dir + s, D[s]['mito_frac'], fmt='%s')"
   ]
  },
  {
   "cell_type": "code",
   "execution_count": 28,
   "metadata": {},
   "outputs": [],
   "source": [
    "gene_list_new=np.array(merged_list)\n",
    "np.savetxt(main_spring_dir + '/genes.txt', merged_list, fmt='%s')"
   ]
  },
  {
   "cell_type": "code",
   "execution_count": 29,
   "metadata": {},
   "outputs": [
    {
     "name": "stdout",
     "output_type": "stream",
     "text": [
      "Saving hdf5 file for fast gene loading...\n",
      "AL627309.1_ENSG00000238009 0 / 20922\n",
      "TANC1_ENSG00000115183 3000 / 20922\n",
      "PCDHGA1_ENSG00000204956 6000 / 20922\n",
      "PPP1R3B_ENSG00000173281 9000 / 20922\n",
      "KCNMA1-AS3_ENSG00000225652 12000 / 20922\n",
      "USP3-AS1_ENSG00000259248 15000 / 20922\n",
      "C18orf65_ENSG00000275763 18000 / 20922\n",
      "Saving hdf5 file for fast cell loading...\n",
      "0 / 7902\n",
      "3000 / 7902\n",
      "6000 / 7902\n"
     ]
    }
   ],
   "source": [
    "# save master expression matrix in hdf5 format\n",
    "import h5py\n",
    "\n",
    "print 'Saving hdf5 file for fast gene loading...'\n",
    "E = E.tocsc()\n",
    "hf = h5py.File(main_spring_dir + 'counts_norm_sparse_genes.hdf5', 'w')\n",
    "counts_group = hf.create_group('counts')\n",
    "cix_group = hf.create_group('cell_ix')\n",
    "\n",
    "hf.attrs['ncells'] = E.shape[0]\n",
    "hf.attrs['ngenes'] = E.shape[1]\n",
    "\n",
    "for iG, g in enumerate(merged_list):\n",
    "    if iG % 3000 == 0:\n",
    "        print g, iG, '/', len(merged_list)\n",
    "    counts = E[:,iG].A.squeeze()\n",
    "    cell_ix = np.nonzero(counts)[0]\n",
    "    counts = counts[cell_ix]\n",
    "    counts_group.create_dataset(g, data = counts)\n",
    "    cix_group.create_dataset(g, data = cell_ix)\n",
    "\n",
    "hf.close()\n",
    "\n",
    "##############\n",
    "\n",
    "print 'Saving hdf5 file for fast cell loading...'\n",
    "E = E.tocsr()\n",
    "hf = h5py.File(main_spring_dir + 'counts_norm_sparse_cells.hdf5', 'w')\n",
    "counts_group = hf.create_group('counts')\n",
    "gix_group = hf.create_group('gene_ix')\n",
    "\n",
    "hf.attrs['ncells'] = E.shape[0]\n",
    "hf.attrs['ngenes'] = E.shape[1]\n",
    "\n",
    "for iC in range(E.shape[0]):\n",
    "    if iC % 3000 == 0:\n",
    "        print iC, '/', E.shape[0]\n",
    "    counts = E[iC,:].A.squeeze()\n",
    "    gene_ix = np.nonzero(counts)[0]\n",
    "    counts = counts[gene_ix]\n",
    "    \n",
    "    counts_group.create_dataset(str(iC), data = counts)\n",
    "    gix_group.create_dataset(str(iC), data = gene_ix)\n",
    "\n",
    "hf.close()"
   ]
  },
  {
   "cell_type": "code",
   "execution_count": 30,
   "metadata": {},
   "outputs": [],
   "source": [
    "scipy.io.mmwrite(main_spring_dir + 'matrix.mtx', E)"
   ]
  },
  {
   "cell_type": "markdown",
   "metadata": {},
   "source": [
    "#### Save merged samples"
   ]
  },
  {
   "cell_type": "code",
   "execution_count": 31,
   "metadata": {
    "scrolled": true
   },
   "outputs": [
    {
     "name": "stdout",
     "output_type": "stream",
     "text": [
      "['Sample1']\n",
      "1612984906.71\n",
      "________________ /FullDataset_v1_rna\n",
      "Filtering genes\n",
      "Using 986 genes\n",
      "Excluded 17 genes\n",
      "Running PCA\n",
      "Building kNN graph\n",
      "kNN built in 5.93095 sec\n",
      "Saving SPRING files to /home/I0369218/precision-immunology/CHAMBERLAIN.Mat/CITESEQ_EXPLORATORY_CITESEQ_5K_PBMCS/FullDataset_v1_rna\n",
      "Running ForceAtlas2\n",
      "190.111049891\n",
      "190.200725079\n"
     ]
    },
    {
     "data": {
      "image/png": "[encoded data removed]",
      "text/plain": [
       "<Figure size 576x432 with 1 Axes>"
      ]
     },
     "metadata": {
      "needs_background": "light"
     },
     "output_type": "display_data"
    }
   ],
   "source": [
    "merge_setup = {'/FullDataset_v1_rna':sample_list}\n",
    "\n",
    "for s, smerge in merge_setup.items():\n",
    "    print smerge\n",
    "    t0 = time.time()\n",
    "    print t0\n",
    "    print '________________', s\n",
    "    \n",
    "    cell_ix = np.in1d(samp_id_flat, smerge)\n",
    "    \n",
    "    run_all_spring_1_6(E[cell_ix,:],\n",
    "                     list(merged_list), s, main_spring_dir, normalize=False, tot_counts_final = total_counts[cell_ix],\n",
    "                     min_counts = 3, min_cells = 3, min_vscore_pctl = 90, exclude_gene_names = list(merged_proteins),\n",
    "                     show_vscore_plot = True, num_pc = 60, pca_method = '', k_neigh=4, use_approxnn = False,\n",
    "                     output_spring = True, num_force_iter = 2000,\n",
    "                     cell_groupings = {'Sample': list(samp_id_flat[cell_ix])})\n",
    "    \n",
    "    print time.time() - t0\n",
    "    \n",
    "    np.save(main_spring_dir + s + '/cell_filter.npy', np.nonzero(cell_ix)[0])\n",
    "    np.savetxt(main_spring_dir + s + '/cell_filter.txt', np.nonzero(cell_ix)[0], fmt='%i')\n",
    "    \n",
    "    print time.time() - t0\n"
   ]
  },
  {
   "cell_type": "code",
   "execution_count": 32,
   "metadata": {},
   "outputs": [
    {
     "name": "stdout",
     "output_type": "stream",
     "text": [
      "['Sample1']\n",
      "1612985097.21\n",
      "________________ /FullDataset_v1_protein\n",
      "Normalizing\n",
      "Using user-supplied gene filter\n",
      "Running PCA\n",
      "Building kNN graph\n",
      "kNN built in 0.83048 sec\n",
      "Saving SPRING files to /home/I0369218/precision-immunology/CHAMBERLAIN.Mat/CITESEQ_EXPLORATORY_CITESEQ_5K_PBMCS/FullDataset_v1_protein\n",
      "Running ForceAtlas2\n",
      "172.316283941\n",
      "172.402792931\n"
     ]
    }
   ],
   "source": [
    "merge_setup = {'/FullDataset_v1_protein':sample_list}\n",
    "\n",
    "for s, smerge in merge_setup.items():\n",
    "    print smerge\n",
    "    t0 = time.time()\n",
    "    print t0\n",
    "    print '________________', s\n",
    "    \n",
    "    cell_ix = np.in1d(samp_id_flat, smerge)\n",
    "    \n",
    "    run_all_spring_1_6(E[cell_ix,:],\n",
    "                     list(merged_list), s, main_spring_dir, normalize=True, tot_counts_final = total_counts[cell_ix],\n",
    "                     min_counts = 3, min_cells = 3, min_vscore_pctl = 90,\n",
    "                     show_vscore_plot = True, num_pc = 17, pca_method = '', k_neigh=4, use_approxnn = False,\n",
    "                     output_spring = True, num_force_iter = 2000, gene_filter = adt_ix,\n",
    "                     cell_groupings = {'Sample': list(samp_id_flat[cell_ix])})\n",
    "    \n",
    "    print time.time() - t0\n",
    "    \n",
    "    np.save(main_spring_dir + s + '/cell_filter.npy', np.nonzero(cell_ix)[0])\n",
    "    np.savetxt(main_spring_dir + s + '/cell_filter.txt', np.nonzero(cell_ix)[0], fmt='%i')\n",
    "    \n",
    "    print time.time() - t0\n",
    "\n"
   ]
  },
  {
   "cell_type": "code",
   "execution_count": null,
   "metadata": {},
   "outputs": [],
   "source": []
  }
 ],
 "metadata": {
  "kernelspec": {
   "display_name": "Python 2",
   "language": "python",
   "name": "python2"
  },
  "language_info": {
   "codemirror_mode": {
    "name": "ipython",
    "version": 2
   },
   "file_extension": ".py",
   "mimetype": "text/x-python",
   "name": "python",
   "nbconvert_exporter": "python",
   "pygments_lexer": "ipython2",
   "version": "2.7.17"
  }
 },
 "nbformat": 4,
 "nbformat_minor": 1
}
