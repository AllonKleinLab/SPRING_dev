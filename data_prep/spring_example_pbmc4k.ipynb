{
 "cells": [
  {
   "cell_type": "markdown",
   "metadata": {},
   "source": [
    "## Setup"
   ]
  },
  {
   "cell_type": "code",
   "execution_count": 1,
   "metadata": {},
   "outputs": [
    {
     "name": "stdout",
     "output_type": "stream",
     "text": [
      "Populating the interactive namespace from numpy and matplotlib\n"
     ]
    }
   ],
   "source": [
    "%pylab inline\n",
    "from spring_helper import *\n",
    "from doublet_detector import *\n",
    "from collections import defaultdict"
   ]
  },
  {
   "cell_type": "code",
   "execution_count": 2,
   "metadata": {},
   "outputs": [],
   "source": [
    "plt.rcParams['font.family'] = 'sans-serif'\n",
    "plt.rcParams['font.sans-serif'] = 'Arial'\n",
    "plt.rc('font', size=14)\n",
    "plt.rcParams['pdf.fonttype'] = 42"
   ]
  },
  {
   "cell_type": "markdown",
   "metadata": {},
   "source": [
    "# Download data"
   ]
  },
  {
   "cell_type": "code",
   "execution_count": 3,
   "metadata": {},
   "outputs": [
    {
     "name": "stdout",
     "output_type": "stream",
     "text": [
      "--2021-02-13 15:13:19--  http://cf.10xgenomics.com/samples/cell-exp/2.1.0/pbmc4k/pbmc4k_filtered_gene_bc_matrices.tar.gz\n",
      "Resolving cp-tinyproxy.default.svc.cluster.local (cp-tinyproxy.default.svc.cluster.local)... 10.105.184.90\n",
      "Connecting to cp-tinyproxy.default.svc.cluster.local (cp-tinyproxy.default.svc.cluster.local)|10.105.184.90|:3128... connected.\n",
      "Proxy request sent, awaiting response... 301 Moved Permanently\n",
      "Location: https://cf.10xgenomics.com/samples/cell-exp/2.1.0/pbmc4k/pbmc4k_filtered_gene_bc_matrices.tar.gz [following]\n",
      "--2021-02-13 15:13:21--  https://cf.10xgenomics.com/samples/cell-exp/2.1.0/pbmc4k/pbmc4k_filtered_gene_bc_matrices.tar.gz\n",
      "Connecting to cp-tinyproxy.default.svc.cluster.local (cp-tinyproxy.default.svc.cluster.local)|10.105.184.90|:3128... connected.\n",
      "Proxy request sent, awaiting response... 200 OK\n",
      "Length: 18423814 (18M) [application/x-tar]\n",
      "Saving to: 'pbmc4k_filtered_gene_bc_matrices.tar.gz'\n",
      "\n",
      "pbmc4k_filtered_gen 100%[===================>]  17.57M  18.5MB/s    in 0.9s    \n",
      "\n",
      "2021-02-13 15:13:23 (18.5 MB/s) - 'pbmc4k_filtered_gene_bc_matrices.tar.gz' saved [18423814/18423814]\n",
      "\n"
     ]
    }
   ],
   "source": [
    "# Download raw data by navigating to the following URL in your web browser:\n",
    "# http://cf.10xgenomics.com/samples/cell-exp/2.1.0/pbmc8k/pbmc8k_filtered_gene_bc_matrices.tar.gz\n",
    "\n",
    "# Or use wget\n",
    "!wget http://cf.10xgenomics.com/samples/cell-exp/2.1.0/pbmc4k/pbmc4k_filtered_gene_bc_matrices.tar.gz"
   ]
  },
  {
   "cell_type": "code",
   "execution_count": 4,
   "metadata": {},
   "outputs": [],
   "source": [
    "\n",
    "# Uncompress \n",
    "!tar xfz pbmc4k_filtered_gene_bc_matrices.tar.gz"
   ]
  },
  {
   "cell_type": "markdown",
   "metadata": {},
   "source": [
    "## Load data"
   ]
  },
  {
   "cell_type": "code",
   "execution_count": 5,
   "metadata": {},
   "outputs": [],
   "source": [
    "input_path = 'filtered_gene_bc_matrices/GRCh38/'"
   ]
  },
  {
   "cell_type": "code",
   "execution_count": 6,
   "metadata": {},
   "outputs": [
    {
     "name": "stdout",
     "output_type": "stream",
     "text": [
      "(4340, 33694)\n"
     ]
    }
   ],
   "source": [
    "if os.path.isfile(input_path + '/matrix.npz'):\n",
    "    E = scipy.sparse.load_npz(input_path + '/matrix.npz')\n",
    "else:\n",
    "    E = scipy.io.mmread(input_path + '/matrix.mtx').T.tocsc()\n",
    "    scipy.sparse.save_npz(input_path + '/matrix.npz', E, compressed=True)\n",
    "\n",
    "print E.shape"
   ]
  },
  {
   "cell_type": "code",
   "execution_count": 7,
   "metadata": {},
   "outputs": [],
   "source": [
    "gene_list = np.array(load_genes(input_path + 'genes.tsv', delimiter='\\t', column=1))\n"
   ]
  },
  {
   "cell_type": "code",
   "execution_count": 8,
   "metadata": {},
   "outputs": [],
   "source": [
    "total_counts = E.sum(1).A.squeeze()"
   ]
  },
  {
   "cell_type": "code",
   "execution_count": 9,
   "metadata": {},
   "outputs": [],
   "source": [
    "E = tot_counts_norm(E)[0]"
   ]
  },
  {
   "cell_type": "markdown",
   "metadata": {},
   "source": [
    "## Save base directory files"
   ]
  },
  {
   "cell_type": "code",
   "execution_count": 10,
   "metadata": {},
   "outputs": [],
   "source": [
    "# Set path for saving data -- you'll have to change this for your own setup.\n",
    "# This path should be a subdirectory of your local copy of SPRING,\n",
    "# specifically, {path_to_SPRING}/datasets/{main_dataset_name}. \n",
    "# See example below, where springViewer_1_6_dev.html is located in ../\n",
    "\n",
    "main_spring_dir = '../datasets/pbmc4k/'\n",
    "\n",
    "if not os.path.exists(main_spring_dir):\n",
    "    os.makedirs(main_spring_dir)\n",
    "    \n"
   ]
  },
  {
   "cell_type": "code",
   "execution_count": 11,
   "metadata": {},
   "outputs": [],
   "source": [
    "np.savetxt(main_spring_dir + 'genes.txt', gene_list, fmt='%s')\n",
    "np.savetxt(main_spring_dir + 'total_counts.txt', total_counts)"
   ]
  },
  {
   "cell_type": "code",
   "execution_count": null,
   "metadata": {},
   "outputs": [
    {
     "name": "stdout",
     "output_type": "stream",
     "text": [
      "Saving hdf5 file for fast gene loading...\n",
      "Saving hdf5 file for fast cell loading...\n"
     ]
    }
   ],
   "source": [
    "# save master expression matrices\n",
    "\n",
    "print 'Saving hdf5 file for fast gene loading...'\n",
    "save_hdf5_genes(E, gene_list, main_spring_dir + 'counts_norm_sparse_genes.hdf5')\n",
    "\n",
    "##############\n",
    "print 'Saving hdf5 file for fast cell loading...'\n",
    "save_hdf5_cells(E, main_spring_dir + 'counts_norm_sparse_cells.hdf5')\n",
    "\n",
    "##############\n",
    "save_sparse_npz(E, main_spring_dir + 'counts_norm.npz', compressed = False)\n",
    "scipy.io.mmwrite(main_spring_dir + 'matrix.mtx', E)"
   ]
  },
  {
   "cell_type": "markdown",
   "metadata": {},
   "source": [
    "## Save SPRING files"
   ]
  },
  {
   "cell_type": "code",
   "execution_count": null,
   "metadata": {},
   "outputs": [],
   "source": [
    "\n",
    "t0 = time.time()\n",
    "\n",
    "save_path = main_spring_dir + 'full'\n",
    "\n",
    "out = make_spring_subplot(E, gene_list, save_path, \n",
    "                    normalize = False, tot_counts_final = total_counts,\n",
    "                    min_counts = 3, min_cells = 3, min_vscore_pctl = 85,show_vscore_plot = True, \n",
    "                    num_pc = 30, \n",
    "                    k_neigh = 4, \n",
    "                    num_force_iter = 500)\n",
    "\n",
    "np.save(save_path + '/cell_filter.npy', np.arange(E.shape[0]))\n",
    "np.savetxt(save_path + '/cell_filter.txt',  np.arange(E.shape[0]), fmt='%i')\n",
    "\n",
    "print 'Finished in %i seconds' %(time.time() - t0)\n"
   ]
  }
 ],
 "metadata": {
  "kernelspec": {
   "display_name": "Python 2",
   "language": "python",
   "name": "python2"
  },
  "language_info": {
   "codemirror_mode": {
    "name": "ipython",
    "version": 2
   },
   "file_extension": ".py",
   "mimetype": "text/x-python",
   "name": "python",
   "nbconvert_exporter": "python",
   "pygments_lexer": "ipython2",
   "version": "2.7.17"
  }
 },
 "nbformat": 4,
 "nbformat_minor": 1
}
